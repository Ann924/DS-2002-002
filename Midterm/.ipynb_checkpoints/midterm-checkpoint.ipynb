{
 "cells": [
  {
   "cell_type": "markdown",
   "id": "1ade7f2b-dcab-417c-ae84-59b915f0c7e5",
   "metadata": {},
   "source": [
    "### Midterm Project"
   ]
  },
  {
   "cell_type": "code",
   "execution_count": 14,
   "id": "b29e32e3-da4e-4f62-88ca-a8fce80bea39",
   "metadata": {},
   "outputs": [],
   "source": [
    "import os\n",
    "import numpy\n",
    "import pandas as pd\n",
    "import pymongo\n",
    "import json\n",
    "from sqlalchemy import create_engine"
   ]
  },
  {
   "cell_type": "markdown",
   "id": "7ed373c6-5fbc-415d-bea3-e3f03216f32f",
   "metadata": {},
   "source": [
    "#### Connect to SQL"
   ]
  },
  {
   "cell_type": "code",
   "execution_count": 3,
   "id": "de2d4d04-0016-497a-b966-6c233f641119",
   "metadata": {},
   "outputs": [],
   "source": [
    "host_name = \"localhost\"\n",
    "host_ip = \"127.0.0.1\"\n",
    "port = \"3306\"\n",
    "user_id=\"root\"\n",
    "pwd = \"Passw0rd123\"\n",
    "\n",
    "src_dbname = \"sakila\"\n",
    "dst_dbname = \"sakila_dim_mart\""
   ]
  },
  {
   "cell_type": "code",
   "execution_count": 4,
   "id": "23e84777-2e24-4e3b-9ade-fcb41e80a74c",
   "metadata": {},
   "outputs": [],
   "source": [
    "def get_dataframe(user_id, pwd, host_name, db_name, sql_query):\n",
    "    conn_str = f\"mysql+pymysql://{user_id}:{pwd}@{host_name}/{db_name}\"\n",
    "    sqlEngine = create_engine(conn_str, pool_recycle=3600)\n",
    "    connection = sqlEngine.connect()\n",
    "    dframe = pd.read_sql(sql_query, connection);\n",
    "    connection.close()\n",
    "    \n",
    "    return dframe\n",
    "\n",
    "\n",
    "def set_dataframe(user_id, pwd, host_name, db_name, df, table_name, pk_column, db_operation):\n",
    "    conn_str = f\"mysql+pymysql://{user_id}:{pwd}@{host_name}/{db_name}\"\n",
    "    sqlEngine = create_engine(conn_str, pool_recycle=3600)\n",
    "    connection = sqlEngine.connect()\n",
    "    \n",
    "    if db_operation == \"insert\":\n",
    "        df.to_sql(table_name, con=connection, index=False, if_exists='replace')\n",
    "        sqlEngine.execute(f\"ALTER TABLE {table_name} ADD PRIMARY KEY ({pk_column});\")\n",
    "            \n",
    "    elif db_operation == \"update\":\n",
    "        df.to_sql(table_name, con=connection, index=False, if_exists='append')\n",
    "    \n",
    "    connection.close()"
   ]
  },
  {
   "cell_type": "code",
   "execution_count": 5,
   "id": "4534d217-c6f8-4b25-a511-7167e4acbcac",
   "metadata": {},
   "outputs": [
    {
     "data": {
      "text/plain": [
       "<sqlalchemy.engine.cursor.LegacyCursorResult at 0x23209b89bb0>"
      ]
     },
     "execution_count": 5,
     "metadata": {},
     "output_type": "execute_result"
    }
   ],
   "source": [
    "conn_str = f\"mysql+pymysql://{user_id}:{pwd}@{host_name}\"\n",
    "sqlEngine = create_engine(conn_str, pool_recycle=3600)\n",
    "\n",
    "sqlEngine.execute(f\"DROP DATABASE IF EXISTS `{dst_dbname}`;\")\n",
    "sqlEngine.execute(f\"CREATE DATABASE `{dst_dbname}`;\")\n",
    "sqlEngine.execute(f\"USE {dst_dbname};\")"
   ]
  },
  {
   "cell_type": "markdown",
   "id": "4861ac00-8602-4ca5-a9e6-ae05a8816a6a",
   "metadata": {},
   "source": [
    "##### Create Dim Mart for Sakila Rentals:\n",
    "1. Get relevant tables from Sakila database in SQL\n",
    "* payment as part of fact table\n",
    "* staff as a dimension table\n",
    "* customer as a dimension table"
   ]
  },
  {
   "cell_type": "code",
   "execution_count": 32,
   "id": "18a38141-89e7-4879-8f67-5c2163b66058",
   "metadata": {},
   "outputs": [
    {
     "data": {
      "text/html": [
       "<div>\n",
       "<style scoped>\n",
       "    .dataframe tbody tr th:only-of-type {\n",
       "        vertical-align: middle;\n",
       "    }\n",
       "\n",
       "    .dataframe tbody tr th {\n",
       "        vertical-align: top;\n",
       "    }\n",
       "\n",
       "    .dataframe thead th {\n",
       "        text-align: right;\n",
       "    }\n",
       "</style>\n",
       "<table border=\"1\" class=\"dataframe\">\n",
       "  <thead>\n",
       "    <tr style=\"text-align: right;\">\n",
       "      <th></th>\n",
       "      <th>payment_id</th>\n",
       "      <th>customer_id</th>\n",
       "      <th>staff_id</th>\n",
       "      <th>rental_id</th>\n",
       "      <th>amount</th>\n",
       "      <th>payment_date</th>\n",
       "      <th>payment_last_update</th>\n",
       "    </tr>\n",
       "  </thead>\n",
       "  <tbody>\n",
       "    <tr>\n",
       "      <th>0</th>\n",
       "      <td>1</td>\n",
       "      <td>1</td>\n",
       "      <td>1</td>\n",
       "      <td>76</td>\n",
       "      <td>2.99</td>\n",
       "      <td>2005-05-25 11:30:37</td>\n",
       "      <td>2006-02-15 22:12:30</td>\n",
       "    </tr>\n",
       "    <tr>\n",
       "      <th>1</th>\n",
       "      <td>2</td>\n",
       "      <td>1</td>\n",
       "      <td>1</td>\n",
       "      <td>573</td>\n",
       "      <td>0.99</td>\n",
       "      <td>2005-05-28 10:35:23</td>\n",
       "      <td>2006-02-15 22:12:30</td>\n",
       "    </tr>\n",
       "  </tbody>\n",
       "</table>\n",
       "</div>"
      ],
      "text/plain": [
       "   payment_id  customer_id  staff_id  rental_id  amount        payment_date  \\\n",
       "0           1            1         1         76    2.99 2005-05-25 11:30:37   \n",
       "1           2            1         1        573    0.99 2005-05-28 10:35:23   \n",
       "\n",
       "  payment_last_update  \n",
       "0 2006-02-15 22:12:30  \n",
       "1 2006-02-15 22:12:30  "
      ]
     },
     "execution_count": 32,
     "metadata": {},
     "output_type": "execute_result"
    }
   ],
   "source": [
    "sql_payment = \"SELECT * FROM sakila.payment;\"\n",
    "df_payment = get_dataframe(user_id, pwd, host_name, src_dbname, sql_payment)\n",
    "df_payment.rename(columns={\"last_update\":\"payment_last_update\"}, inplace=True)\n",
    "df_payment.head(2)"
   ]
  },
  {
   "cell_type": "code",
   "execution_count": 30,
   "id": "351a8d16-9add-4dca-a9d8-1b05bfa74466",
   "metadata": {},
   "outputs": [
    {
     "data": {
      "text/html": [
       "<div>\n",
       "<style scoped>\n",
       "    .dataframe tbody tr th:only-of-type {\n",
       "        vertical-align: middle;\n",
       "    }\n",
       "\n",
       "    .dataframe tbody tr th {\n",
       "        vertical-align: top;\n",
       "    }\n",
       "\n",
       "    .dataframe thead th {\n",
       "        text-align: right;\n",
       "    }\n",
       "</style>\n",
       "<table border=\"1\" class=\"dataframe\">\n",
       "  <thead>\n",
       "    <tr style=\"text-align: right;\">\n",
       "      <th></th>\n",
       "      <th>staff_id</th>\n",
       "      <th>first_name</th>\n",
       "      <th>last_name</th>\n",
       "      <th>address_id</th>\n",
       "      <th>picture</th>\n",
       "      <th>email</th>\n",
       "      <th>store_id</th>\n",
       "      <th>active</th>\n",
       "      <th>username</th>\n",
       "      <th>password</th>\n",
       "      <th>last_update</th>\n",
       "    </tr>\n",
       "  </thead>\n",
       "  <tbody>\n",
       "    <tr>\n",
       "      <th>0</th>\n",
       "      <td>1</td>\n",
       "      <td>Mike</td>\n",
       "      <td>Hillyer</td>\n",
       "      <td>3</td>\n",
       "      <td>b'\\x89PNG\\r\\n\\x1a\\n\\x00\\x00\\x00\\rIHDR\\x00\\x00\\...</td>\n",
       "      <td>Mike.Hillyer@sakilastaff.com</td>\n",
       "      <td>1</td>\n",
       "      <td>1</td>\n",
       "      <td>Mike</td>\n",
       "      <td>8cb2237d0679ca88db6464eac60da96345513964</td>\n",
       "      <td>2006-02-15 03:57:16</td>\n",
       "    </tr>\n",
       "    <tr>\n",
       "      <th>1</th>\n",
       "      <td>2</td>\n",
       "      <td>Jon</td>\n",
       "      <td>Stephens</td>\n",
       "      <td>4</td>\n",
       "      <td>None</td>\n",
       "      <td>Jon.Stephens@sakilastaff.com</td>\n",
       "      <td>2</td>\n",
       "      <td>1</td>\n",
       "      <td>Jon</td>\n",
       "      <td>None</td>\n",
       "      <td>2006-02-15 03:57:16</td>\n",
       "    </tr>\n",
       "  </tbody>\n",
       "</table>\n",
       "</div>"
      ],
      "text/plain": [
       "   staff_id first_name last_name  address_id  \\\n",
       "0         1       Mike   Hillyer           3   \n",
       "1         2        Jon  Stephens           4   \n",
       "\n",
       "                                             picture  \\\n",
       "0  b'\\x89PNG\\r\\n\\x1a\\n\\x00\\x00\\x00\\rIHDR\\x00\\x00\\...   \n",
       "1                                               None   \n",
       "\n",
       "                          email  store_id  active username  \\\n",
       "0  Mike.Hillyer@sakilastaff.com         1       1     Mike   \n",
       "1  Jon.Stephens@sakilastaff.com         2       1      Jon   \n",
       "\n",
       "                                   password         last_update  \n",
       "0  8cb2237d0679ca88db6464eac60da96345513964 2006-02-15 03:57:16  \n",
       "1                                      None 2006-02-15 03:57:16  "
      ]
     },
     "execution_count": 30,
     "metadata": {},
     "output_type": "execute_result"
    }
   ],
   "source": [
    "sql_staff = \"SELECT * FROM sakila.staff;\"\n",
    "df_staff = get_dataframe(user_id, pwd, host_name, src_dbname, sql_staff)\n",
    "df_staff.head(2)"
   ]
  },
  {
   "cell_type": "code",
   "execution_count": 29,
   "id": "7561e2dc-43cd-4f24-bac1-c3565a179682",
   "metadata": {},
   "outputs": [
    {
     "data": {
      "text/html": [
       "<div>\n",
       "<style scoped>\n",
       "    .dataframe tbody tr th:only-of-type {\n",
       "        vertical-align: middle;\n",
       "    }\n",
       "\n",
       "    .dataframe tbody tr th {\n",
       "        vertical-align: top;\n",
       "    }\n",
       "\n",
       "    .dataframe thead th {\n",
       "        text-align: right;\n",
       "    }\n",
       "</style>\n",
       "<table border=\"1\" class=\"dataframe\">\n",
       "  <thead>\n",
       "    <tr style=\"text-align: right;\">\n",
       "      <th></th>\n",
       "      <th>customer_id</th>\n",
       "      <th>store_id</th>\n",
       "      <th>first_name</th>\n",
       "      <th>last_name</th>\n",
       "      <th>email</th>\n",
       "      <th>address_id</th>\n",
       "      <th>active</th>\n",
       "      <th>create_date</th>\n",
       "      <th>last_update</th>\n",
       "    </tr>\n",
       "  </thead>\n",
       "  <tbody>\n",
       "    <tr>\n",
       "      <th>0</th>\n",
       "      <td>1</td>\n",
       "      <td>1</td>\n",
       "      <td>MARY</td>\n",
       "      <td>SMITH</td>\n",
       "      <td>MARY.SMITH@sakilacustomer.org</td>\n",
       "      <td>5</td>\n",
       "      <td>1</td>\n",
       "      <td>2006-02-14 22:04:36</td>\n",
       "      <td>2006-02-15 04:57:20</td>\n",
       "    </tr>\n",
       "    <tr>\n",
       "      <th>1</th>\n",
       "      <td>2</td>\n",
       "      <td>1</td>\n",
       "      <td>PATRICIA</td>\n",
       "      <td>JOHNSON</td>\n",
       "      <td>PATRICIA.JOHNSON@sakilacustomer.org</td>\n",
       "      <td>6</td>\n",
       "      <td>1</td>\n",
       "      <td>2006-02-14 22:04:36</td>\n",
       "      <td>2006-02-15 04:57:20</td>\n",
       "    </tr>\n",
       "  </tbody>\n",
       "</table>\n",
       "</div>"
      ],
      "text/plain": [
       "   customer_id  store_id first_name last_name  \\\n",
       "0            1         1       MARY     SMITH   \n",
       "1            2         1   PATRICIA   JOHNSON   \n",
       "\n",
       "                                 email  address_id  active  \\\n",
       "0        MARY.SMITH@sakilacustomer.org           5       1   \n",
       "1  PATRICIA.JOHNSON@sakilacustomer.org           6       1   \n",
       "\n",
       "          create_date         last_update  \n",
       "0 2006-02-14 22:04:36 2006-02-15 04:57:20  \n",
       "1 2006-02-14 22:04:36 2006-02-15 04:57:20  "
      ]
     },
     "execution_count": 29,
     "metadata": {},
     "output_type": "execute_result"
    }
   ],
   "source": [
    "sql_customer = \"SELECT * FROM sakila.customer;\"\n",
    "df_customer = get_dataframe(user_id, pwd, host_name, src_dbname, sql_customer)\n",
    "#df_customer.rename(columns={\"last_update\":\"customer_last_update\", \"create_date\":\"customer_create_date\"}, inplace=True)\n",
    "df_customer.head(2)"
   ]
  },
  {
   "cell_type": "markdown",
   "id": "b559205e-9929-465c-85f9-0cc3d06b4f69",
   "metadata": {},
   "source": [
    "2. Get data from MongoDB"
   ]
  },
  {
   "cell_type": "markdown",
   "id": "680c4c31-a40a-4537-bbac-28a5dff8cc8d",
   "metadata": {},
   "source": [
    "Populate MongoDB with JSON file of staff data from Sakila"
   ]
  },
  {
   "cell_type": "code",
   "execution_count": 22,
   "id": "a955697f-03de-4ee0-a978-06e99d30c93b",
   "metadata": {},
   "outputs": [
    {
     "name": "stdout",
     "output_type": "stream",
     "text": [
      "Local Connection String: mongodb://localhost:27017/\n"
     ]
    }
   ],
   "source": [
    "mysql_uid = \"root\"\n",
    "mysql_pwd = \"Passw0rd123\"\n",
    "\n",
    "#atlas_cluster_name = \"sandbox.zibbf\"\n",
    "#atlas_user_name = \"m001-student\"\n",
    "#atlas_password = \"m001-mongodb-basics\"\n",
    "\n",
    "conn_str = {\"local\" : f\"mongodb://localhost:27017/\",\n",
    "#    \"atlas\" : f\"mongodb+srv://{atlas_user_name}:{atlas_password}@{atlas_cluster_name}.mongodb.net\"\n",
    "}\n",
    "\n",
    "print(f\"Local Connection String: {conn_str['local']}\")\n",
    "#print(f\"Atlas Connection String: {conn_str['atlas']}\")"
   ]
  },
  {
   "cell_type": "code",
   "execution_count": 23,
   "id": "821b5f16-dc30-423c-a670-89e3ec3e194a",
   "metadata": {},
   "outputs": [],
   "source": [
    "def get_mongo_dataframe(connect_str, db_name, collection, query):\n",
    "    '''Create a connection to MongoDB'''\n",
    "    client = pymongo.MongoClient(connect_str)\n",
    "    \n",
    "    '''Query MongoDB, and fill a python list with documents to create a DataFrame'''\n",
    "    db = client[db_name]\n",
    "    dframe = pd.DataFrame(list(db[collection].find(query)))\n",
    "    dframe.drop(['_id'], axis=1, inplace=True)\n",
    "    client.close()\n",
    "    return dframe"
   ]
  },
  {
   "cell_type": "code",
   "execution_count": 15,
   "id": "cf9676a5-740f-41e9-a4d2-58a0909e92de",
   "metadata": {},
   "outputs": [],
   "source": [
    "client = pymongo.MongoClient(conn_str[\"local\"])\n",
    "db = client[src_dbname]\n",
    "\n",
    "# Gets the path of the Current Working Directory for this Notebook, and then Appends the 'data' directory.\n",
    "data_dir = os.path.join(os.getcwd(), 'data')\n",
    "\n",
    "json_files = {\"inventory\" : 'sakila_inventory.json'}\n",
    "\n",
    "for file in json_files:\n",
    "    db.drop_collection(file)\n",
    "    json_file = os.path.join(data_dir, json_files[file])\n",
    "    with open(json_file, 'r') as openfile:\n",
    "        json_object = json.load(openfile)\n",
    "        file = db[file]\n",
    "        result = file.insert_many(json_object)\n",
    "        \n",
    "client.close()"
   ]
  },
  {
   "cell_type": "code",
   "execution_count": 26,
   "id": "3f9793af-7333-447b-9824-d1dfe954c348",
   "metadata": {},
   "outputs": [
    {
     "data": {
      "text/html": [
       "<div>\n",
       "<style scoped>\n",
       "    .dataframe tbody tr th:only-of-type {\n",
       "        vertical-align: middle;\n",
       "    }\n",
       "\n",
       "    .dataframe tbody tr th {\n",
       "        vertical-align: top;\n",
       "    }\n",
       "\n",
       "    .dataframe thead th {\n",
       "        text-align: right;\n",
       "    }\n",
       "</style>\n",
       "<table border=\"1\" class=\"dataframe\">\n",
       "  <thead>\n",
       "    <tr style=\"text-align: right;\">\n",
       "      <th></th>\n",
       "      <th>inventory_id</th>\n",
       "      <th>film_id</th>\n",
       "      <th>store_id</th>\n",
       "      <th>inventory_last_update</th>\n",
       "    </tr>\n",
       "  </thead>\n",
       "  <tbody>\n",
       "    <tr>\n",
       "      <th>0</th>\n",
       "      <td>1</td>\n",
       "      <td>1</td>\n",
       "      <td>1</td>\n",
       "      <td>2006-02-15 05:09:17</td>\n",
       "    </tr>\n",
       "    <tr>\n",
       "      <th>1</th>\n",
       "      <td>2</td>\n",
       "      <td>1</td>\n",
       "      <td>1</td>\n",
       "      <td>2006-02-15 05:09:17</td>\n",
       "    </tr>\n",
       "  </tbody>\n",
       "</table>\n",
       "</div>"
      ],
      "text/plain": [
       "   inventory_id  film_id  store_id inventory_last_update\n",
       "0             1        1         1   2006-02-15 05:09:17\n",
       "1             2        1         1   2006-02-15 05:09:17"
      ]
     },
     "execution_count": 26,
     "metadata": {},
     "output_type": "execute_result"
    }
   ],
   "source": [
    "query = {}\n",
    "collection = \"inventory\"\n",
    "\n",
    "df_inventory = get_mongo_dataframe(conn_str['local'], src_dbname, collection, query)\n",
    "df_inventory.rename(columns={\"last_update\":\"inventory_last_update\"}, inplace=True)\n",
    "df_inventory.head(2)"
   ]
  },
  {
   "cell_type": "markdown",
   "id": "4a95a615-eb53-4b65-8bbe-33b40447da2f",
   "metadata": {},
   "source": [
    "3. Get data from file system"
   ]
  },
  {
   "cell_type": "code",
   "execution_count": 50,
   "id": "4b25f3c1-f960-44e7-824a-a32fa0377653",
   "metadata": {},
   "outputs": [
    {
     "data": {
      "text/html": [
       "<div>\n",
       "<style scoped>\n",
       "    .dataframe tbody tr th:only-of-type {\n",
       "        vertical-align: middle;\n",
       "    }\n",
       "\n",
       "    .dataframe tbody tr th {\n",
       "        vertical-align: top;\n",
       "    }\n",
       "\n",
       "    .dataframe thead th {\n",
       "        text-align: right;\n",
       "    }\n",
       "</style>\n",
       "<table border=\"1\" class=\"dataframe\">\n",
       "  <thead>\n",
       "    <tr style=\"text-align: right;\">\n",
       "      <th></th>\n",
       "      <th>rental_id</th>\n",
       "      <th>rental_date</th>\n",
       "      <th>inventory_id</th>\n",
       "      <th>customer_id</th>\n",
       "      <th>return_date</th>\n",
       "      <th>staff_id</th>\n",
       "      <th>rental_last_update</th>\n",
       "    </tr>\n",
       "  </thead>\n",
       "  <tbody>\n",
       "    <tr>\n",
       "      <th>0</th>\n",
       "      <td>1</td>\n",
       "      <td>2005-05-24 22:53:30</td>\n",
       "      <td>367</td>\n",
       "      <td>130</td>\n",
       "      <td>2005-05-26 22:04:30</td>\n",
       "      <td>1</td>\n",
       "      <td>2006-02-15 21:30:53</td>\n",
       "    </tr>\n",
       "    <tr>\n",
       "      <th>1</th>\n",
       "      <td>2</td>\n",
       "      <td>2005-05-24 22:54:33</td>\n",
       "      <td>1525</td>\n",
       "      <td>459</td>\n",
       "      <td>2005-05-28 19:40:33</td>\n",
       "      <td>1</td>\n",
       "      <td>2006-02-15 21:30:53</td>\n",
       "    </tr>\n",
       "  </tbody>\n",
       "</table>\n",
       "</div>"
      ],
      "text/plain": [
       "   rental_id          rental_date  inventory_id  customer_id  \\\n",
       "0          1  2005-05-24 22:53:30           367          130   \n",
       "1          2  2005-05-24 22:54:33          1525          459   \n",
       "\n",
       "           return_date  staff_id   rental_last_update  \n",
       "0  2005-05-26 22:04:30         1  2006-02-15 21:30:53  \n",
       "1  2005-05-28 19:40:33         1  2006-02-15 21:30:53  "
      ]
     },
     "execution_count": 50,
     "metadata": {},
     "output_type": "execute_result"
    }
   ],
   "source": [
    "df_rental = pd.read_csv(os.path.join(data_dir, \"sakila_rental.csv\"), sep=';')\n",
    "df_rental.rename(columns={\"last_update\":\"rental_last_update\"}, inplace=True)\n",
    "df_rental.head(2)"
   ]
  },
  {
   "cell_type": "markdown",
   "id": "925da4ec-ea10-486a-ab62-a3323a69d2fa",
   "metadata": {},
   "source": [
    "### Join Payment, Rental, and Inventory Tables to Create Fact Table"
   ]
  },
  {
   "cell_type": "code",
   "execution_count": 73,
   "id": "eb8e2de3-c29a-468d-9cb4-1f4b613bc14e",
   "metadata": {},
   "outputs": [
    {
     "name": "stdout",
     "output_type": "stream",
     "text": [
      "(16044, 10)\n"
     ]
    },
    {
     "data": {
      "text/html": [
       "<div>\n",
       "<style scoped>\n",
       "    .dataframe tbody tr th:only-of-type {\n",
       "        vertical-align: middle;\n",
       "    }\n",
       "\n",
       "    .dataframe tbody tr th {\n",
       "        vertical-align: top;\n",
       "    }\n",
       "\n",
       "    .dataframe thead th {\n",
       "        text-align: right;\n",
       "    }\n",
       "</style>\n",
       "<table border=\"1\" class=\"dataframe\">\n",
       "  <thead>\n",
       "    <tr style=\"text-align: right;\">\n",
       "      <th></th>\n",
       "      <th>rental_id</th>\n",
       "      <th>rental_date</th>\n",
       "      <th>inventory_id</th>\n",
       "      <th>customer_id</th>\n",
       "      <th>return_date</th>\n",
       "      <th>staff_id</th>\n",
       "      <th>rental_last_update</th>\n",
       "      <th>film_id</th>\n",
       "      <th>store_id</th>\n",
       "      <th>inventory_last_update</th>\n",
       "    </tr>\n",
       "  </thead>\n",
       "  <tbody>\n",
       "    <tr>\n",
       "      <th>0</th>\n",
       "      <td>1</td>\n",
       "      <td>2005-05-24 22:53:30</td>\n",
       "      <td>367</td>\n",
       "      <td>130</td>\n",
       "      <td>2005-05-26 22:04:30</td>\n",
       "      <td>1</td>\n",
       "      <td>2006-02-15 21:30:53</td>\n",
       "      <td>80</td>\n",
       "      <td>1</td>\n",
       "      <td>2006-02-15 05:09:17</td>\n",
       "    </tr>\n",
       "    <tr>\n",
       "      <th>1</th>\n",
       "      <td>2</td>\n",
       "      <td>2005-05-24 22:54:33</td>\n",
       "      <td>1525</td>\n",
       "      <td>459</td>\n",
       "      <td>2005-05-28 19:40:33</td>\n",
       "      <td>1</td>\n",
       "      <td>2006-02-15 21:30:53</td>\n",
       "      <td>333</td>\n",
       "      <td>2</td>\n",
       "      <td>2006-02-15 05:09:17</td>\n",
       "    </tr>\n",
       "  </tbody>\n",
       "</table>\n",
       "</div>"
      ],
      "text/plain": [
       "   rental_id          rental_date  inventory_id  customer_id  \\\n",
       "0          1  2005-05-24 22:53:30           367          130   \n",
       "1          2  2005-05-24 22:54:33          1525          459   \n",
       "\n",
       "           return_date  staff_id   rental_last_update  film_id  store_id  \\\n",
       "0  2005-05-26 22:04:30         1  2006-02-15 21:30:53       80         1   \n",
       "1  2005-05-28 19:40:33         1  2006-02-15 21:30:53      333         2   \n",
       "\n",
       "  inventory_last_update  \n",
       "0   2006-02-15 05:09:17  \n",
       "1   2006-02-15 05:09:17  "
      ]
     },
     "execution_count": 73,
     "metadata": {},
     "output_type": "execute_result"
    }
   ],
   "source": [
    "df_rental_inv = pd.merge(df_rental, df_inventory, on=\"inventory_id\", how=\"left\")\n",
    "print(df_rental_inv.shape)\n",
    "df_rental_inv.head(2)"
   ]
  },
  {
   "cell_type": "code",
   "execution_count": 75,
   "id": "6a61f9c5-e0cb-4e35-a668-63f4be8d9402",
   "metadata": {},
   "outputs": [
    {
     "name": "stdout",
     "output_type": "stream",
     "text": [
      "(16044, 13)\n"
     ]
    },
    {
     "data": {
      "text/html": [
       "<div>\n",
       "<style scoped>\n",
       "    .dataframe tbody tr th:only-of-type {\n",
       "        vertical-align: middle;\n",
       "    }\n",
       "\n",
       "    .dataframe tbody tr th {\n",
       "        vertical-align: top;\n",
       "    }\n",
       "\n",
       "    .dataframe thead th {\n",
       "        text-align: right;\n",
       "    }\n",
       "</style>\n",
       "<table border=\"1\" class=\"dataframe\">\n",
       "  <thead>\n",
       "    <tr style=\"text-align: right;\">\n",
       "      <th></th>\n",
       "      <th>rental_id</th>\n",
       "      <th>rental_date</th>\n",
       "      <th>inventory_id</th>\n",
       "      <th>customer_id</th>\n",
       "      <th>return_date</th>\n",
       "      <th>staff_id</th>\n",
       "      <th>rental_last_update</th>\n",
       "      <th>film_id</th>\n",
       "      <th>store_id</th>\n",
       "      <th>inventory_last_update</th>\n",
       "      <th>amount</th>\n",
       "      <th>payment_date</th>\n",
       "      <th>payment_last_update</th>\n",
       "    </tr>\n",
       "  </thead>\n",
       "  <tbody>\n",
       "    <tr>\n",
       "      <th>0</th>\n",
       "      <td>1</td>\n",
       "      <td>2005-05-24 22:53:30</td>\n",
       "      <td>367</td>\n",
       "      <td>130</td>\n",
       "      <td>2005-05-26 22:04:30</td>\n",
       "      <td>1</td>\n",
       "      <td>2006-02-15 21:30:53</td>\n",
       "      <td>80</td>\n",
       "      <td>1</td>\n",
       "      <td>2006-02-15 05:09:17</td>\n",
       "      <td>2.99</td>\n",
       "      <td>2005-05-24 22:53:30</td>\n",
       "      <td>2006-02-15 22:13:16</td>\n",
       "    </tr>\n",
       "    <tr>\n",
       "      <th>1</th>\n",
       "      <td>2</td>\n",
       "      <td>2005-05-24 22:54:33</td>\n",
       "      <td>1525</td>\n",
       "      <td>459</td>\n",
       "      <td>2005-05-28 19:40:33</td>\n",
       "      <td>1</td>\n",
       "      <td>2006-02-15 21:30:53</td>\n",
       "      <td>333</td>\n",
       "      <td>2</td>\n",
       "      <td>2006-02-15 05:09:17</td>\n",
       "      <td>NaN</td>\n",
       "      <td>NaT</td>\n",
       "      <td>NaT</td>\n",
       "    </tr>\n",
       "  </tbody>\n",
       "</table>\n",
       "</div>"
      ],
      "text/plain": [
       "   rental_id          rental_date  inventory_id  customer_id  \\\n",
       "0          1  2005-05-24 22:53:30           367          130   \n",
       "1          2  2005-05-24 22:54:33          1525          459   \n",
       "\n",
       "           return_date  staff_id   rental_last_update  film_id  store_id  \\\n",
       "0  2005-05-26 22:04:30         1  2006-02-15 21:30:53       80         1   \n",
       "1  2005-05-28 19:40:33         1  2006-02-15 21:30:53      333         2   \n",
       "\n",
       "  inventory_last_update  amount        payment_date payment_last_update  \n",
       "0   2006-02-15 05:09:17    2.99 2005-05-24 22:53:30 2006-02-15 22:13:16  \n",
       "1   2006-02-15 05:09:17     NaN                 NaT                 NaT  "
      ]
     },
     "execution_count": 75,
     "metadata": {},
     "output_type": "execute_result"
    }
   ],
   "source": [
    "# we join on customer_id and staff_id as wlel because each rental_id corresponds to one customer/staff and so does each payment_id\n",
    "# the staff and customer should match for matching rentals and payments\n",
    "df_rental_inv_pay = pd.merge(df_rental_inv, df_payment, on=[\"rental_id\", \"customer_id\", \"staff_id\"], how=\"left\")\n",
    "df_rental_inv_pay.drop(columns=[\"payment_id\"], inplace=True)\n",
    "print(df_rental_inv_pay.shape)\n",
    "df_rental_inv_pay.head(2)"
   ]
  },
  {
   "cell_type": "code",
   "execution_count": 76,
   "id": "48b55bb5-4f56-492e-9a21-46df5bc544ed",
   "metadata": {},
   "outputs": [
    {
     "name": "stdout",
     "output_type": "stream",
     "text": [
      "(16044, 14)\n"
     ]
    }
   ],
   "source": [
    "ordered_columns = [\"rental_id\", \"inventory_id\", \"customer_id\", \"staff_id\", \"film_id\", \n",
    "                   \"store_id\", \"amount\", \"rental_date\", \"payment_date\", \"return_date\", \"rental_last_update\", \"inventory_last_update\",\n",
    "                  \"payment_last_update\"]\n",
    "\n",
    "df_fctrentals = df_rental_inv_pay[ordered_columns]\n",
    "df_fctrentals.rename(columns={\"customer_id\":\"customer_key\",\n",
    "                              \"staff_id\":\"staff_key\",\n",
    "                              \"film_id\": \"film_key\",\n",
    "                             \"store_id\":\"store_key\"}, inplace=True)\n",
    "df_fctrentals.insert(0, \"fact_rental_key\", range(1, df_fctrentals.shape[0]+1))\n",
    "\n",
    "print(df_fctrentals.shape)"
   ]
  },
  {
   "cell_type": "code",
   "execution_count": 77,
   "id": "9d12ab7a-aabe-415b-b36d-64c5dcb50bbb",
   "metadata": {},
   "outputs": [
    {
     "name": "stdout",
     "output_type": "stream",
     "text": [
      "<class 'pandas.core.frame.DataFrame'>\n",
      "Int64Index: 16044 entries, 0 to 16043\n",
      "Data columns (total 14 columns):\n",
      " #   Column                 Non-Null Count  Dtype         \n",
      "---  ------                 --------------  -----         \n",
      " 0   fact_rental_key        16044 non-null  int64         \n",
      " 1   rental_id              16044 non-null  int64         \n",
      " 2   inventory_id           16044 non-null  int64         \n",
      " 3   customer_key           16044 non-null  int64         \n",
      " 4   staff_key              16044 non-null  int64         \n",
      " 5   film_key               16044 non-null  int64         \n",
      " 6   store_key              16044 non-null  int64         \n",
      " 7   amount                 7966 non-null   float64       \n",
      " 8   rental_date            16044 non-null  object        \n",
      " 9   payment_date           7966 non-null   datetime64[ns]\n",
      " 10  return_date            15861 non-null  object        \n",
      " 11  rental_last_update     16044 non-null  object        \n",
      " 12  inventory_last_update  16044 non-null  object        \n",
      " 13  payment_last_update    7966 non-null   datetime64[ns]\n",
      "dtypes: datetime64[ns](2), float64(1), int64(7), object(4)\n",
      "memory usage: 1.8+ MB\n"
     ]
    }
   ],
   "source": [
    "df_fctrentals.info()"
   ]
  },
  {
   "cell_type": "code",
   "execution_count": 78,
   "id": "591492cc-a060-41af-8652-043d16a0f2a0",
   "metadata": {},
   "outputs": [
    {
     "data": {
      "text/html": [
       "<div>\n",
       "<style scoped>\n",
       "    .dataframe tbody tr th:only-of-type {\n",
       "        vertical-align: middle;\n",
       "    }\n",
       "\n",
       "    .dataframe tbody tr th {\n",
       "        vertical-align: top;\n",
       "    }\n",
       "\n",
       "    .dataframe thead th {\n",
       "        text-align: right;\n",
       "    }\n",
       "</style>\n",
       "<table border=\"1\" class=\"dataframe\">\n",
       "  <thead>\n",
       "    <tr style=\"text-align: right;\">\n",
       "      <th></th>\n",
       "      <th>fact_rental_key</th>\n",
       "      <th>rental_id</th>\n",
       "      <th>inventory_id</th>\n",
       "      <th>customer_key</th>\n",
       "      <th>staff_key</th>\n",
       "      <th>film_key</th>\n",
       "      <th>store_key</th>\n",
       "      <th>amount</th>\n",
       "      <th>rental_date</th>\n",
       "      <th>payment_date</th>\n",
       "      <th>return_date</th>\n",
       "      <th>rental_last_update</th>\n",
       "      <th>inventory_last_update</th>\n",
       "      <th>payment_last_update</th>\n",
       "    </tr>\n",
       "  </thead>\n",
       "  <tbody>\n",
       "    <tr>\n",
       "      <th>0</th>\n",
       "      <td>1</td>\n",
       "      <td>1</td>\n",
       "      <td>367</td>\n",
       "      <td>130</td>\n",
       "      <td>1</td>\n",
       "      <td>80</td>\n",
       "      <td>1</td>\n",
       "      <td>2.99</td>\n",
       "      <td>2005-05-24 22:53:30</td>\n",
       "      <td>2005-05-24 22:53:30</td>\n",
       "      <td>2005-05-26 22:04:30</td>\n",
       "      <td>2006-02-15 21:30:53</td>\n",
       "      <td>2006-02-15 05:09:17</td>\n",
       "      <td>2006-02-15 22:13:16</td>\n",
       "    </tr>\n",
       "    <tr>\n",
       "      <th>1</th>\n",
       "      <td>2</td>\n",
       "      <td>2</td>\n",
       "      <td>1525</td>\n",
       "      <td>459</td>\n",
       "      <td>1</td>\n",
       "      <td>333</td>\n",
       "      <td>2</td>\n",
       "      <td>NaN</td>\n",
       "      <td>2005-05-24 22:54:33</td>\n",
       "      <td>NaT</td>\n",
       "      <td>2005-05-28 19:40:33</td>\n",
       "      <td>2006-02-15 21:30:53</td>\n",
       "      <td>2006-02-15 05:09:17</td>\n",
       "      <td>NaT</td>\n",
       "    </tr>\n",
       "  </tbody>\n",
       "</table>\n",
       "</div>"
      ],
      "text/plain": [
       "   fact_rental_key  rental_id  inventory_id  customer_key  staff_key  \\\n",
       "0                1          1           367           130          1   \n",
       "1                2          2          1525           459          1   \n",
       "\n",
       "   film_key  store_key  amount          rental_date        payment_date  \\\n",
       "0        80          1    2.99  2005-05-24 22:53:30 2005-05-24 22:53:30   \n",
       "1       333          2     NaN  2005-05-24 22:54:33                 NaT   \n",
       "\n",
       "           return_date   rental_last_update inventory_last_update  \\\n",
       "0  2005-05-26 22:04:30  2006-02-15 21:30:53   2006-02-15 05:09:17   \n",
       "1  2005-05-28 19:40:33  2006-02-15 21:30:53   2006-02-15 05:09:17   \n",
       "\n",
       "  payment_last_update  \n",
       "0 2006-02-15 22:13:16  \n",
       "1                 NaT  "
      ]
     },
     "execution_count": 78,
     "metadata": {},
     "output_type": "execute_result"
    }
   ],
   "source": [
    "df_fctrentals.head(2)"
   ]
  },
  {
   "cell_type": "markdown",
   "id": "8671194d-c5b0-4ea5-a4f2-7dc2811cbd8d",
   "metadata": {},
   "source": [
    "#### Write back fact table to SQL database"
   ]
  },
  {
   "cell_type": "code",
   "execution_count": 79,
   "id": "b4447341-a5a3-45b4-b3c6-4fe850a46cb7",
   "metadata": {},
   "outputs": [],
   "source": [
    "db_operation = \"insert\"\n",
    "set_dataframe(user_id, pwd, host_name, dst_dbname, df_fctrentals, \"fact_rentals\", \"fact_rental_key\", db_operation)"
   ]
  },
  {
   "cell_type": "code",
   "execution_count": 80,
   "id": "9cce3e56-b93a-4099-89ed-760471ccf9aa",
   "metadata": {},
   "outputs": [
    {
     "name": "stdout",
     "output_type": "stream",
     "text": [
      "(16044, 14)\n"
     ]
    },
    {
     "data": {
      "text/html": [
       "<div>\n",
       "<style scoped>\n",
       "    .dataframe tbody tr th:only-of-type {\n",
       "        vertical-align: middle;\n",
       "    }\n",
       "\n",
       "    .dataframe tbody tr th {\n",
       "        vertical-align: top;\n",
       "    }\n",
       "\n",
       "    .dataframe thead th {\n",
       "        text-align: right;\n",
       "    }\n",
       "</style>\n",
       "<table border=\"1\" class=\"dataframe\">\n",
       "  <thead>\n",
       "    <tr style=\"text-align: right;\">\n",
       "      <th></th>\n",
       "      <th>fact_rental_key</th>\n",
       "      <th>rental_id</th>\n",
       "      <th>inventory_id</th>\n",
       "      <th>customer_key</th>\n",
       "      <th>staff_key</th>\n",
       "      <th>film_key</th>\n",
       "      <th>store_key</th>\n",
       "      <th>amount</th>\n",
       "      <th>rental_date</th>\n",
       "      <th>payment_date</th>\n",
       "      <th>return_date</th>\n",
       "      <th>rental_last_update</th>\n",
       "      <th>inventory_last_update</th>\n",
       "      <th>payment_last_update</th>\n",
       "    </tr>\n",
       "  </thead>\n",
       "  <tbody>\n",
       "    <tr>\n",
       "      <th>0</th>\n",
       "      <td>1</td>\n",
       "      <td>1</td>\n",
       "      <td>367</td>\n",
       "      <td>130</td>\n",
       "      <td>1</td>\n",
       "      <td>80</td>\n",
       "      <td>1</td>\n",
       "      <td>2.99</td>\n",
       "      <td>2005-05-24 22:53:30</td>\n",
       "      <td>2005-05-24 22:53:30</td>\n",
       "      <td>2005-05-26 22:04:30</td>\n",
       "      <td>2006-02-15 21:30:53</td>\n",
       "      <td>2006-02-15 05:09:17</td>\n",
       "      <td>2006-02-15 22:13:16</td>\n",
       "    </tr>\n",
       "    <tr>\n",
       "      <th>1</th>\n",
       "      <td>2</td>\n",
       "      <td>2</td>\n",
       "      <td>1525</td>\n",
       "      <td>459</td>\n",
       "      <td>1</td>\n",
       "      <td>333</td>\n",
       "      <td>2</td>\n",
       "      <td>NaN</td>\n",
       "      <td>2005-05-24 22:54:33</td>\n",
       "      <td>NaT</td>\n",
       "      <td>2005-05-28 19:40:33</td>\n",
       "      <td>2006-02-15 21:30:53</td>\n",
       "      <td>2006-02-15 05:09:17</td>\n",
       "      <td>NaT</td>\n",
       "    </tr>\n",
       "  </tbody>\n",
       "</table>\n",
       "</div>"
      ],
      "text/plain": [
       "   fact_rental_key  rental_id  inventory_id  customer_key  staff_key  \\\n",
       "0                1          1           367           130          1   \n",
       "1                2          2          1525           459          1   \n",
       "\n",
       "   film_key  store_key  amount          rental_date        payment_date  \\\n",
       "0        80          1    2.99  2005-05-24 22:53:30 2005-05-24 22:53:30   \n",
       "1       333          2     NaN  2005-05-24 22:54:33                 NaT   \n",
       "\n",
       "           return_date   rental_last_update inventory_last_update  \\\n",
       "0  2005-05-26 22:04:30  2006-02-15 21:30:53   2006-02-15 05:09:17   \n",
       "1  2005-05-28 19:40:33  2006-02-15 21:30:53   2006-02-15 05:09:17   \n",
       "\n",
       "  payment_last_update  \n",
       "0 2006-02-15 22:13:16  \n",
       "1                 NaT  "
      ]
     },
     "execution_count": 80,
     "metadata": {},
     "output_type": "execute_result"
    }
   ],
   "source": [
    "sql_check = f\"\"\"SELECT * FROM {dst_dbname}.fact_rentals;\"\"\"\n",
    "df_check = get_dataframe(user_id, pwd, host_name, src_dbname, sql_check)\n",
    "print(df_check.shape)\n",
    "df_check.head(2)"
   ]
  }
 ],
 "metadata": {
  "kernelspec": {
   "display_name": "Python 3.8 - default",
   "language": "python",
   "name": "py38_default"
  },
  "language_info": {
   "codemirror_mode": {
    "name": "ipython",
    "version": 3
   },
   "file_extension": ".py",
   "mimetype": "text/x-python",
   "name": "python",
   "nbconvert_exporter": "python",
   "pygments_lexer": "ipython3",
   "version": "3.8.13"
  }
 },
 "nbformat": 4,
 "nbformat_minor": 5
}
